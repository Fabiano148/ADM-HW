{
 "cells": [
  {
   "cell_type": "markdown",
   "metadata": {},
   "source": [
    "# [EN] Import libraries\n",
    "# [IT] Importo le varie librerie utilizzate"
   ]
  },
  {
   "cell_type": "code",
   "execution_count": 1,
   "metadata": {},
   "outputs": [],
   "source": [
    "import pandas as pd\n",
    "import pandasql # [EN] pandasql to query in SQL language - [IT] Utilizzo la libreria pandasql per analisi tramite linguaggio sql \n",
    "from pandasql import sqldf\n",
    "pysqldf = lambda q: sqldf(q, globals())\n",
    "import matplotlib.pyplot as plt"
   ]
  },
  {
   "cell_type": "markdown",
   "metadata": {},
   "source": [
    "# [EN] Import the two csv files (Oct and Nov) separately.\n",
    "## Not considering the \"product_id\" and \"category_id\" columns in the analyzes below, they are excluded during loading.\n",
    "## I also delete records with null values .\n",
    "## Finally, I consider a subset of the October and November files.\n",
    "\n",
    "## Note: The idea was to use Colab to leverage Google Cloud's resources. Not being able to manage this step due to timing, I opted for local management with the limits of record exclusion and blank elimination (incorrect; the initial idea was to delete only the records with blanks in fields that resulted not necessary for the various analyzes).\n",
    "\n",
    "# [IT] Importo i due csv di Ottobre e Novembre separatamente\n",
    "## Non considerando nel seguito le colonne \"product_id\" e \"category_id\", queste sono escluse in fase di caricamento.\n",
    "## Elimino inoltre record che presentano valori nulli al proprio interno\n",
    "## Considero infine un sottoinsieme dei file di Ottobre e Novembre\n",
    "\n",
    "## Nota: l'idea era di usare Colab per sfruttare le risorse Google Cloud. Non essendo riuscito a gestire questo passaggio per le tempistiche, ho optato per una gestione in locale con i limiti dell'esclusione di record ed eliminazione dei blank (non corretta; l'idea iniziale era di eliminare solo i record privi delle informazioni che risultavano di volta in volta necessarie alle varie analisi)."
   ]
  },
  {
   "cell_type": "code",
   "execution_count": 2,
   "metadata": {},
   "outputs": [],
   "source": [
    "chunksize =1000000  #67501979 --dropna: 42089564 \n",
    "fields = ['event_time','event_type','category_code','brand','price','user_id','user_session']\n",
    "TextFileReader = pd.read_csv('C:/Users/fevangel/OneDrive - Capgemini/Fabiano/Magistrale Data Science/ADM/HW2/2019-Nov.csv/2019-Nov.csv', chunksize=chunksize,usecols=fields,nrows=10000000)\n",
    "\n",
    "df = pd.concat(TextFileReader, ignore_index=True)\n",
    "df_drop_na = df.dropna()"
   ]
  },
  {
   "cell_type": "code",
   "execution_count": 3,
   "metadata": {},
   "outputs": [],
   "source": [
    "chunksize =1000000 #42448764 --dropna:26560620\n",
    "fields = ['event_time','event_type','category_code','brand','price','user_id','user_session']\n",
    "TextFileReader_2 = pd.read_csv('C:/Users/fevangel/OneDrive - Capgemini/Fabiano/Magistrale Data Science/ADM/HW2/2019-Oct.csv/2019-Oct.csv', chunksize=chunksize,usecols=fields,nrows=3000000)\n",
    "\n",
    "df_2 = pd.concat(TextFileReader_2, ignore_index=True)\n",
    "df_2_drop_na = df_2.dropna()"
   ]
  },
  {
   "cell_type": "markdown",
   "metadata": {},
   "source": [
    "# [EN] Merge the two CSVs in an unique dataframe\n",
    "# [IT] Unisco i due csv in un unico dataframe"
   ]
  },
  {
   "cell_type": "code",
   "execution_count": 4,
   "metadata": {},
   "outputs": [],
   "source": [
    "frames = [df_drop_na,df_2_drop_na]\n",
    "result = pd.concat(frames, ignore_index=True)"
   ]
  },
  {
   "cell_type": "markdown",
   "metadata": {},
   "source": [
    "# RQ1 What’s the operation users repeat more on average within a session? \n",
    "# [EN]\n",
    "## Using the SQL language, through the pandasql library, I group by session and event_type and count the occurrences for the session-event_type pair.\n",
    "## I then calculate the average of the occurrences of each event_type within a session, grouping by event_type and calculating the average itself\n",
    "# [IT]\n",
    "## Utilizzando il linguaggio SQL, tramite libreria pandasql, raggruppo per session ed event_type e conteggio le occorrenze per la coppia session-event_type.\n",
    "## Calcolo quindi la media delle occorrenze di ogni event_type all'interno di una sessione, raggruppando per event_type e calcolando la media stessa"
   ]
  },
  {
   "cell_type": "code",
   "execution_count": 6,
   "metadata": {},
   "outputs": [],
   "source": [
    "result_1 = result[['user_session','event_type']]"
   ]
  },
  {
   "cell_type": "code",
   "execution_count": 8,
   "metadata": {},
   "outputs": [
    {
     "name": "stdout",
     "output_type": "stream",
     "text": [
      "  event_type  media_occorrenze\n",
      "0       view          3.949162\n",
      "1       cart          1.580714\n",
      "2   purchase          1.168083\n",
      "The operation users repeat more within a session is view, with this average: 3.9491618967972313\n"
     ]
    }
   ],
   "source": [
    "# RQ1 What’s the operation users repeat more on average within a session? Con SQL\n",
    "result_sess_event = pysqldf(\"SELECT user_session,event_type, count(event_type) as occorrenze FROM result_1 group by user_session,event_type\")\n",
    "result_sess_event_2 = pysqldf(\"SELECT event_type, avg(occorrenze) as media_occorrenze from result_sess_event group by event_type order by 2 desc\")\n",
    "print(result_sess_event_2)\n",
    "print(\"The operation users repeat more within a session is \" +result_sess_event_2['event_type'][0]+\", with this average: \"+str(result_sess_event_2['media_occorrenze'][0]))  "
   ]
  },
  {
   "cell_type": "markdown",
   "metadata": {},
   "source": [
    "# RQ1 What’s the operation users repeat more on average within a session? \n",
    "# [EN]\n",
    "## Alternative version: I consider a list containing the possible types of event and, using the for loop on this LIST, I check the number of occurrences per session and event_type. On these occurrences, I calculate the average for each event_type.\n",
    "## Finally, I use a dictionary in which I insert, for each type of event, the average of the occurrences and extract the type of event with the highest average\n",
    "# [IT]\n",
    "## Versione alternativa: considero una lista contenente i possibili tipi di evento e, tramite ciclo for su tale Lista, vado a verificare il numero di occorrenze per sessione ed event_type. Su tali occorrenze calcolo la media per ciascun event_type.\n",
    "## Utilizzo infine un dizionario nel quale inserisco,  per ciascun tipo di evento, la media delle occorrenze ed estraggo il tipo evento con la media più alta"
   ]
  },
  {
   "cell_type": "code",
   "execution_count": 10,
   "metadata": {},
   "outputs": [
    {
     "name": "stdout",
     "output_type": "stream",
     "text": [
      "The event_type view is repeated on average 3.9491618967972313 per session\n",
      "The event_type purchase is repeated on average 1.1680826350286235 per session\n",
      "The event_type cart is repeated on average 1.5807143473012588 per session\n",
      "The operation users repeat more within a session is view, with this average:  3.9491618967972313\n"
     ]
    }
   ],
   "source": [
    "# RQ1 What’s the operation users repeat more on average within a session?\n",
    "lista_eventi = ['view','purchase','cart']\n",
    "diz_eventi_media = {}\n",
    "for j in lista_eventi:\n",
    "    somma = 0\n",
    "    conta = 0\n",
    "    media = 0\n",
    "    count_Operation = (result.loc[result_1['event_type'] == j].groupby(['user_session','event_type']).event_type.count())\n",
    "    for i in count_Operation:\n",
    "        somma += i\n",
    "        conta += 1\n",
    "    media = somma/conta\n",
    "    diz_eventi_media[j] = media\n",
    "    print(\"The event_type \"+j+\" is repeated on average \"+str(media)+\" per session\")\n",
    "maximum = max(diz_eventi_media, key=diz_eventi_media.get)  # Just use 'min' instead of 'max' for minimum.\n",
    "print(\"The operation users repeat more within a session is \" +maximum+\", with this average:  \"+str(diz_eventi_media[maximum]))    "
   ]
  },
  {
   "cell_type": "markdown",
   "metadata": {},
   "source": [
    "# RQ1 Produce a plot that shows the average number of times users perform each operation (view/removefromchart etc etc)\n",
    "# [EN]\n",
    "## Based on the previously calculated fields, I plot on the x axis the event_type on and on the y axis the average of the occurrences of the relative event_type\n",
    "# [IT]\n",
    "## Sulla base di quanto calcolato nel punto precedente, riporto sull'asse x l'event_type e sull'asse y la media delle occorrenza del relativo event_type"
   ]
  },
  {
   "cell_type": "code",
   "execution_count": 9,
   "metadata": {},
   "outputs": [
    {
     "data": {
      "image/png": "[encoded data removed]",
      "text/plain": [
       "<Figure size 432x288 with 1 Axes>"
      ]
     },
     "metadata": {
      "needs_background": "light"
     },
     "output_type": "display_data"
    }
   ],
   "source": [
    "# RQ1 Produce a plot that shows the average number of times users perform each operation (view/removefromchart etc etc)\n",
    "result_sess_event_2.plot(x='event_type', y='media_occorrenze', kind='bar', title = 'Average number of times users perform each operation') \n",
    "plt.show()"
   ]
  },
  {
   "cell_type": "markdown",
   "metadata": {},
   "source": [
    "# RQ1 How many times, on average, a user views a product before adding it to the cart?\n",
    "# [EN]\n",
    "## For each session and for each user, initially calculate the first event of 'cart' (calculating the first event_time for event_type = 'cart')\n",
    "## On the basis of the first 'cart' event_time previously calculated, grouping by session and user, I consider all the 'views' present before adding to the cart.\n",
    "## I then calculate the average with respect to the 'views' considered\n",
    "# [IT]\n",
    "## Per ogni sessione e per ogni utente, calcolo inizialmente il primo evento di 'cart' (calcolando il primo event_time per event_type = 'cart')\n",
    "## Sulla base del primo event_time di 'cart' precedentemente calcolato, raggruppando per sessione ed utente, considero tutte le 'view' presenti prima dell'aggiunta al carrello.\n",
    "## Calcolo quindi la media rispetto alle 'view' così considerate"
   ]
  },
  {
   "cell_type": "code",
   "execution_count": 13,
   "metadata": {},
   "outputs": [],
   "source": [
    "result_1 = result[['user_session','event_type','user_id','event_time']]"
   ]
  },
  {
   "cell_type": "code",
   "execution_count": 14,
   "metadata": {},
   "outputs": [
    {
     "name": "stdout",
     "output_type": "stream",
     "text": [
      "On average, a user views a product 2.9672449522073583 times before adding it to cart\n"
     ]
    }
   ],
   "source": [
    "# RQ1 How many times, on average, a user views a product before adding it to the cart?\n",
    "result_many_times = pysqldf(\"SELECT user_session, user_id, min(event_time) first_cart FROM result_1 where event_type = 'cart' group by user_session,user_id\")\n",
    "result_many_times_2 = pysqldf(\"SELECT r.user_session, r.user_id, count(r.event_time) as conta from result_1 as r join result_many_times as r1 on (r.user_id = r1.user_id and r.user_session = r1.user_session) where r.event_type = 'view' and r.event_time < r1.first_cart group by r.user_session, r.user_id\")\n",
    "media = sum(result_many_times_2['conta'])/len(result_many_times_2['conta'])\n",
    "print(\"On average, a user views a product \"+str(media)+ \" times before adding it to cart\")"
   ]
  },
  {
   "cell_type": "markdown",
   "metadata": {},
   "source": [
    "# RQ1 What’s the probability that products added once to the cart are effectively bought?\n",
    "# [EN]\n",
    "## I initially group by user_session and user_id and, filtering on the event_type = 'cart', I calculate the time related to the first addition of the product to the cart and the count of 'carts' for each session and user (result in result_prob_buy).\n",
    "## In the second step (result_prob_buy_2), again with respect to the user_session-user_id key, I calculate the total of 'purchase' events following the 'cart' event.\n",
    "## In the last step (result_prob_buy_3) I calculate the probability that a product added to the cart will be purchased\n",
    "\n",
    "# [IT]\n",
    "## Raggruppo inizialmente per user_session ed user_id e, filtrando sull'event_type = 'cart', calcolo il tempo relativo alla prima aggiunta del prodotto al carrello e la count dei 'cart' per ogni sessione ed utente (risultato in result_prob_buy).\n",
    "## Nel secondo step (result_prob_buy_2), sempre rispetto alla chiave user_session-user_id, calcolo il totale di eventi 'purchase' successivi all'evento di 'cart'.\n",
    "## Nell'ultimo step (result_prob_buy_3) calcolo la probabilità che un prodotto aggiunto al carrello venga acquistato"
   ]
  },
  {
   "cell_type": "code",
   "execution_count": 11,
   "metadata": {},
   "outputs": [],
   "source": [
    "result_1 = result[['user_session','event_type','user_id','event_time']]"
   ]
  },
  {
   "cell_type": "code",
   "execution_count": 12,
   "metadata": {},
   "outputs": [
    {
     "name": "stdout",
     "output_type": "stream",
     "text": [
      "the probability that a product added once to the cart is effectively bought is 0    0.729784\n",
      "Name: prob_buy, dtype: float64\n"
     ]
    }
   ],
   "source": [
    "# RQ1 What’s the probability that products added once to the cart are effectively bought? Da rivedere\n",
    "result_prob_buy = pysqldf(\"SELECT user_session, user_id, min(event_time) first_cart, count(*) as conteggio_cart FROM result_1 where event_type = 'cart' group by user_session, user_id\")\n",
    "result_prob_buy_2 = pysqldf(\"SELECT r.user_session, r.user_id, min(conteggio_cart) as conteggio_cart, count(r.event_type) as conteggio_purchase from result_1 as r join result_prob_buy as r1 on (r.user_id = r1.user_id and r.user_session = r1.user_session) where r.event_type = 'purchase' and r.event_time > r1.first_cart group by r.user_session, r.user_id\")\n",
    "result_prob_buy_2['conteggio_cart'] = result_prob_buy_2['conteggio_cart'].astype(float)\n",
    "result_prob_buy_2['conteggio_purchase'] = result_prob_buy_2['conteggio_purchase'].astype(float)\n",
    "result_prob_buy_3 = pysqldf(\"SELECT SUM(conteggio_purchase)/SUM(conteggio_cart) as prob_buy from result_prob_buy_2\")\n",
    "print(\"the probability that a product added once to the cart is effectively bought is \"+str(result_prob_buy_3['prob_buy']))"
   ]
  },
  {
   "cell_type": "markdown",
   "metadata": {},
   "source": [
    "# RQ1 How much time passes on average between the first view time and a purchase/addition to cart?\n",
    "# [EN]\n",
    "## Initially I calculate the event_time of the first addition to the cart for each session and each user (result_time_to_cart).\n",
    "## So I'm going to see, for each session and each user, the moment of the first 'view' (result_time_to_cart_2).\n",
    "## Show, for each session and user, the times of the first 'cart' and of the first 'view' (result_time_to_cart_3)\n",
    "## I calculate the difference in seconds between the two dates for each session and each user\n",
    "## I calculate the average over all the calculated differences\n",
    "# [IT]\n",
    "## Inizialmente calcolo l'event_time della prima aggiunta al carrello per ciascuna sessione e ciascun user (result_time_to_cart).\n",
    "## Vado quindi a vedere, per ciascuna sessione e ciascun user, il momento della prima 'view' (result_time_to_cart_2).\n",
    "## Riporto, per ciascuna sessione ed user, i tempi del primo 'cart' e della prima 'view' (result_time_to_cart_3)\n",
    "## Calcolo la differenza in secondi tra le due date per ciascuna sessione e ciascun user\n",
    "## Calcolo la media su tutte le differenze calcolate"
   ]
  },
  {
   "cell_type": "code",
   "execution_count": 15,
   "metadata": {},
   "outputs": [],
   "source": [
    "result_1 = result[['user_session','event_type','user_id','event_time']]"
   ]
  },
  {
   "cell_type": "code",
   "execution_count": 16,
   "metadata": {},
   "outputs": [
    {
     "name": "stdout",
     "output_type": "stream",
     "text": [
      "The avarage time between the first view time and the first addition to cart is 254.15621304343108 sec\n"
     ]
    }
   ],
   "source": [
    "# RQ1 How much time passes on average between the first view time and a purchase/addition to cart? Rivedere\n",
    "result_time_to_cart = pysqldf(\"SELECT user_session,user_id, min(event_time) as first_cart FROM result_1 where event_type = 'cart' group by user_session,user_id\")\n",
    "result_time_to_cart_2 = pysqldf(\"SELECT r1.user_session, r1.user_id, min(r.event_time) as first_view from result_time_to_cart as r1 join result_1 as r on (r1.user_id = r.user_id and r1.user_session = r.user_session) where r.event_type = 'view' and r.event_time < r1.first_cart group by r1.user_session,r1.user_id\")\n",
    "result_time_to_cart_3 = pysqldf(\"SELECT r1.user_session,r1.user_id, r1.first_cart, r2.first_view from result_time_to_cart as r1 join result_time_to_cart_2 as r2 on (r1.user_id = r2.user_id and r1.user_session = r2.user_session)\")\n",
    "result_time_to_cart_3['first_cart'] =  pd.to_datetime(result_time_to_cart_3.first_cart)\n",
    "result_time_to_cart_3['first_view'] =  pd.to_datetime(result_time_to_cart_3.first_view)\n",
    "result_time_to_cart_3['differenza'] = (result_time_to_cart_3.first_cart - result_time_to_cart_3.first_view).dt.total_seconds()\n",
    "media = sum(result_time_to_cart_3['differenza'])/len(result_time_to_cart_3['differenza'])\n",
    "print(\"The avarage time between the first view time and the first addition to cart is \"+str(media)+\" sec\")"
   ]
  },
  {
   "cell_type": "markdown",
   "metadata": {},
   "source": [
    "# RQ2 What are the categories of the most trending products overall?\n",
    "# For each month visualize this information through a plot showing the number of sold products per category.\n",
    "# [EN]\n",
    "## I initially divide the category_code field into its sub-parts (identified as \"category\", \"SubCategory\", \"LowCategory\". When the \"LowCategory\" extracted is not valued (null), I identify the \"SubCategory\" as product; vice versa, if the \"LowCategory\" is valued, I identify it as product).\n",
    "## I exclude cases with category = null and identify the product as the second or third value of the concatenation coming from the category_code (depending on whether the third value is set or not). By grouping by category and product thus obtained, I count the products sold (event_type = 'purchase').\n",
    "## With result_categories_most_sold I see the categories associated with the best-selling products (in descending order).\n",
    "## To view the number of products sold by category and by month, I initially extract the month from event_time. Then I group by category and, filtering on the month, I calculate the number of products sold for each category.\n",
    "# [IT]\n",
    "## Divido inizialmente il campo category_code nelle sue sottoparti (individuate come \"category\",\"SubCategory\",\"LowCategory\". Nei casi in cui la \"LowCategory\" non sia valorizzata, indivuo la \"SubCategory\" come product; viceversa, se la \"LowCategory\" risulta valorizzata, individuo questa come product).\n",
    "## Escludo i casi con category a null e identifico il prodotto come secondo o terzo valore della concatenazione proveniente dal category_code (a seconda che il terzo valore sia valorizzato o meno). Raggruppando per category e product così ottenuto, conto i prodotti venduti (event_type = 'purchase').\n",
    "## Con result_categories_most_sold vado a vedere le categorie associate ad i prodotti più venduti (in ordine decrescente).\n",
    "## Per visualizzare il numero di prodotti venduti per category e per mese, estraggo inizialmente il mese rispetto all'event_time. Raggruppo quindi per  category e, filtrando sul mese, calcolo il numero dei prodotti venduti per ciascuna categoria."
   ]
  },
  {
   "cell_type": "code",
   "execution_count": 5,
   "metadata": {},
   "outputs": [
    {
     "name": "stdout",
     "output_type": "stream",
     "text": [
      "        category     product  conteggio\n",
      "0    electronics  smartphone      87941\n",
      "1    electronics   headphone       8406\n",
      "2    electronics          tv       5521\n",
      "3    electronics      clocks       4379\n",
      "4      computers    notebook       3775\n",
      "..           ...         ...        ...\n",
      "111      apparel        sock          3\n",
      "112      apparel    trousers          3\n",
      "113        sport   snowboard          3\n",
      "114         auto       winch          2\n",
      "115      apparel       scarf          1\n",
      "\n",
      "[116 rows x 3 columns]\n"
     ]
    },
    {
     "data": {
      "image/png": "[encoded data removed]",
      "text/plain": [
       "<Figure size 1296x504 with 1 Axes>"
      ]
     },
     "metadata": {
      "needs_background": "light"
     },
     "output_type": "display_data"
    },
    {
     "data": {
      "image/png": "[encoded data removed]",
      "text/plain": [
       "<Figure size 1296x504 with 1 Axes>"
      ]
     },
     "metadata": {
      "needs_background": "light"
     },
     "output_type": "display_data"
    }
   ],
   "source": [
    "# RQ2 What are the categories of the most trending products overall? For each month visualize this information through a plot showing the number of sold products per category.\n",
    "result_categories = result\n",
    "cat = result_categories['category_code'].str.split(\".\",n= 1, expand = True)\n",
    "result_categories['category'] = cat[0]\n",
    "result_categories['SubCategory'] = cat[1]\n",
    "cat_2 = result_categories['SubCategory'].str.split(\".\",n= 1, expand = True)\n",
    "result_categories.drop(columns =[\"SubCategory\"], inplace = True)\n",
    "result_categories['SubCategory'] = cat_2[0]\n",
    "result_categories['LowCategory'] = cat_2[1]\n",
    "#escludo i category a null\n",
    "result_categories_most_sold = pysqldf(\"SELECT category, CASE WHEN LowCategory is not null then LowCategory else SubCategory end as product,  count(*) conteggio from result_categories where event_type = 'purchase' and category is not null group by category_code, CASE WHEN LowCategory is not null then LowCategory else SubCategory end order by 3 DESC\")\n",
    "#Con il seguente print, possibile vedere le categorie associate ai prodotti, in ordine discendente rispetto ai prodotti venduti\n",
    "print(result_categories_most_sold)\n",
    "#estraggo il mese rispetto all'event_time\n",
    "result_categories['event_time'] =  pd.to_datetime(result.event_time).dt.month\n",
    "result_categories_most_sold_per_month_plot_oct = pysqldf(\"SELECT category,  count(*) conteggio from result_categories where event_type = 'purchase' and category is not null and event_time = 10 group by category\")\n",
    "result_categories_most_sold_per_month_plot_nov = pysqldf(\"SELECT category,  count(*) conteggio from result_categories where event_type = 'purchase' and category is not null and event_time = 11 group by category\")\n",
    "result_categories_most_sold_per_month_plot_oct.plot(x='category', y='conteggio', kind='bar',figsize=(18, 7), title = 'Number of sold products per category - Oct') \n",
    "result_categories_most_sold_per_month_plot_nov.plot(x='category', y='conteggio', kind='bar',figsize=(18, 7), title = 'Number of sold products per category - Nov') \n",
    "plt.show()"
   ]
  },
  {
   "cell_type": "markdown",
   "metadata": {},
   "source": [
    "# RQ2 Plot the most visited subcategories\n",
    "# [EN]\n",
    "## I initially divide the category_code field into its sub-parts.\n",
    "## In result_subCategories_plot I extract all the SubCategories related to the 'views' (only for the cases in which LowCategory is null (where LowCategory is the third value of the initial concatenation of the category_code). The interpretation here is that, in cases where the third value is present, the second value of the concatenation represents the SubCategory; vice versa, in cases where the third value of the concatenation is absent, the second directly represents the product).\n",
    "# [IT]\n",
    "## Divido inizialmente il campo category_code nelle sue sottoparti.\n",
    "## In result_subCategories_plot estraggo tutte le SubCategory relative alle 'view' (per i soli casi in cui LowCategory is null (dove LowCategory è il terzo valore dell'inziale concatenazione del category_code). L'interpretazione qui è che, nei casi in cui il terzo valore è presente, il secondo valore della concatenazione rappresenta la SubCategory; viceversa, nelle casistiche in cui è assente il terzo valore della concatenazione, il secondo rappresenta direttamente il prodotto)."
   ]
  },
  {
   "cell_type": "code",
   "execution_count": 6,
   "metadata": {},
   "outputs": [
    {
     "data": {
      "text/plain": [
       "<matplotlib.axes._subplots.AxesSubplot at 0x17526619808>"
      ]
     },
     "execution_count": 6,
     "metadata": {},
     "output_type": "execute_result"
    },
    {
     "data": {
      "image/png": "[encoded data removed]",
      "text/plain": [
       "<Figure size 1296x504 with 1 Axes>"
      ]
     },
     "metadata": {
      "needs_background": "light"
     },
     "output_type": "display_data"
    }
   ],
   "source": [
    "#RQ2 Plot the most visited subcategories \n",
    "result_subCategories = result\n",
    "cat = result['category_code'].str.split(\".\",n= 1, expand = True)\n",
    "result_subCategories['category'] = cat[0]\n",
    "result_subCategories['SubCategory'] = cat[1]\n",
    "cat_2 = result_subCategories['SubCategory'].str.split(\".\",n= 1, expand = True)\n",
    "result_subCategories.drop(columns =[\"SubCategory\"], inplace = True)\n",
    "result_subCategories['SubCategory'] = cat_2[0]\n",
    "result_subCategories['LowCategory'] = cat_2[1]\n",
    "result_subCategories_plot = pysqldf(\"SELECT SubCategory from result_subCategories where event_type = 'view' and LowCategory is not null\")\n",
    "result_subCategories_plot['SubCategory'].value_counts().head(50).plot.bar(\\\n",
    "figsize = (18, 7), \\\n",
    "title='Most visited subcategories'xlabel='SubCategories',\\\n",
    "ylabel='Number of Appearances')"
   ]
  },
  {
   "cell_type": "markdown",
   "metadata": {},
   "source": [
    "#  RQ2 What are the 10 most sold products per category?\n",
    "# [EN]\n",
    "## I initially divide the category_code field into its sub-parts.\n",
    "## In result_products_most_sold, I exclude cases with category = null and identify the product as the second or third value of the concatenation coming from the category_code (depending on whether the third value is set or not). By grouping by category and product thus obtained, I count the products sold (event_type = 'purchase').\n",
    "## I associate a counter (ordered according to the products sold for each category) to the values thus obtained, so as to filter on the first ten values for each category\n",
    "# [IT]\n",
    "## Divido inizialmente il campo category_code nelle sue sottoparti.\n",
    "## In result_products_most_sold, escludo i casi con category a null e identifico il prodotto come secondo o terzo valore della concatenazione proveniente dal category_code (a seconda che il terzo valore sia valorizzato o meno). Raggruppando per category e product così ottenuto, conto i prodotti venduti (event_type = 'purchase').\n",
    "## Associo un contatore (ordinato rispetto ai prodotti venduti per ciascuna categoria) ai valori così ottenuti, in modo tale da filtrare sui primi dieci valori per ciascuna categoria"
   ]
  },
  {
   "cell_type": "code",
   "execution_count": 7,
   "metadata": {},
   "outputs": [
    {
     "name": "stdout",
     "output_type": "stream",
     "text": [
      "       category    product\n",
      "0   accessories        bag\n",
      "1   accessories     wallet\n",
      "2   accessories   umbrella\n",
      "3       apparel      shoes\n",
      "4       apparel       keds\n",
      "..          ...        ...\n",
      "77        sport    bicycle\n",
      "78        sport    trainer\n",
      "79        sport     tennis\n",
      "80        sport  snowboard\n",
      "81   stationery   cartrige\n",
      "\n",
      "[82 rows x 2 columns]\n"
     ]
    }
   ],
   "source": [
    "#RQ2 What are the 10 most sold products per category?\n",
    "result_products = result\n",
    "cat = result_products['category_code'].str.split(\".\",n= 1, expand = True)\n",
    "result_products['category'] = cat[0]\n",
    "result_products['SubCategory'] = cat[1]\n",
    "cat_2 = result_products['SubCategory'].str.split(\".\",n= 1, expand = True)\n",
    "result_products.drop(columns =[\"SubCategory\"], inplace = True)\n",
    "result_products['SubCategory'] = cat_2[0]\n",
    "result_products['LowCategory'] = cat_2[1]\n",
    "#escludo i category a null\n",
    "result_products_most_sold = pysqldf(\"SELECT category, CASE WHEN LowCategory is not null then LowCategory else SubCategory end as product,  count(*) conteggio from result_products where event_type = 'purchase' and category is not null group by category_code, CASE WHEN LowCategory is not null then LowCategory else SubCategory end order by category, 3 DESC\")\n",
    "result_products_most_sold['ordine'] = result_products_most_sold.sort_values(['conteggio'], ascending=False)\\\n",
    "             .groupby(['category'])\\\n",
    "             .cumcount() + 1\n",
    "result_products_most_sold = pysqldf(\"SELECT category, product from result_products_most_sold where ordine <= 10\")\n",
    "print(result_products_most_sold)"
   ]
  },
  {
   "cell_type": "markdown",
   "metadata": {},
   "source": [
    "# RQ3 For each category, what’s the brand whose prices are higher on average?\n",
    "# Find, for each category, the brand with the highest average price. Return all the results in ascending order by price.\n",
    "# [EN]\n",
    "## I initially divide the category_code field into its sub-parts.\n",
    "## I calculate the total price and the total count by category and brand.\n",
    "## I calculate the average price per category and brand as the ratio between the total price and the total count for the category-brand pair.\n",
    "## I associate a counter (ordered with respect to the price for each category) to the values thus obtained, in order to filter by the highest price for each category\n",
    "\n",
    "# [IT]\n",
    "## Divido inizialmente il campo category_code nelle sue sottoparti.\n",
    "## Calcolo il prezzo totale ed il conteggio totale per category e brand.\n",
    "## Calcolo il prezzo medio per category e brand come rapporto tra il prezzo totale ed il conteggio totale per la coppia category-brand.\n",
    "## Associo un contatore (ordinato rispetto al prezzo per ciascuna categoria) ai valori così ottenuti, in modo tale da filtrare per il prezzo più alto per ciascuna categoria"
   ]
  },
  {
   "cell_type": "code",
   "execution_count": 12,
   "metadata": {},
   "outputs": [
    {
     "name": "stderr",
     "output_type": "stream",
     "text": [
      "C:\\Users\\fevangel\\Anaconda3\\lib\\site-packages\\ipykernel_launcher.py:4: SettingWithCopyWarning: \n",
      "A value is trying to be set on a copy of a slice from a DataFrame.\n",
      "Try using .loc[row_indexer,col_indexer] = value instead\n",
      "\n",
      "See the caveats in the documentation: https://pandas.pydata.org/pandas-docs/stable/user_guide/indexing.html#returning-a-view-versus-a-copy\n",
      "  after removing the cwd from sys.path.\n",
      "C:\\Users\\fevangel\\Anaconda3\\lib\\site-packages\\ipykernel_launcher.py:5: SettingWithCopyWarning: \n",
      "A value is trying to be set on a copy of a slice from a DataFrame.\n",
      "Try using .loc[row_indexer,col_indexer] = value instead\n",
      "\n",
      "See the caveats in the documentation: https://pandas.pydata.org/pandas-docs/stable/user_guide/indexing.html#returning-a-view-versus-a-copy\n",
      "  \"\"\"\n",
      "C:\\Users\\fevangel\\Anaconda3\\lib\\site-packages\\pandas\\core\\frame.py:3997: SettingWithCopyWarning: \n",
      "A value is trying to be set on a copy of a slice from a DataFrame\n",
      "\n",
      "See the caveats in the documentation: https://pandas.pydata.org/pandas-docs/stable/user_guide/indexing.html#returning-a-view-versus-a-copy\n",
      "  errors=errors,\n",
      "C:\\Users\\fevangel\\Anaconda3\\lib\\site-packages\\ipykernel_launcher.py:8: SettingWithCopyWarning: \n",
      "A value is trying to be set on a copy of a slice from a DataFrame.\n",
      "Try using .loc[row_indexer,col_indexer] = value instead\n",
      "\n",
      "See the caveats in the documentation: https://pandas.pydata.org/pandas-docs/stable/user_guide/indexing.html#returning-a-view-versus-a-copy\n",
      "  \n",
      "C:\\Users\\fevangel\\Anaconda3\\lib\\site-packages\\ipykernel_launcher.py:9: SettingWithCopyWarning: \n",
      "A value is trying to be set on a copy of a slice from a DataFrame.\n",
      "Try using .loc[row_indexer,col_indexer] = value instead\n",
      "\n",
      "See the caveats in the documentation: https://pandas.pydata.org/pandas-docs/stable/user_guide/indexing.html#returning-a-view-versus-a-copy\n",
      "  if __name__ == '__main__':\n"
     ]
    },
    {
     "name": "stdout",
     "output_type": "stream",
     "text": [
      "        category       brand    avg_price\n",
      "0       medicine       omron    50.938306\n",
      "1     stationery       xerox    66.670000\n",
      "2        apparel     weekend   484.508235\n",
      "3   country_yard      viking   727.341344\n",
      "4    accessories     weekend   748.360215\n",
      "5           auto   schneider  1023.178214\n",
      "6      computers       apple  1648.614823\n",
      "7           kids  minimotors  1815.491111\n",
      "8      furniture      senspa  1911.248750\n",
      "9    electronics        rado  2065.243388\n",
      "10    appliances   climadiff  2236.463158\n",
      "11  construction       helix  2311.890000\n",
      "12         sport   pinarello  2567.663134\n"
     ]
    }
   ],
   "source": [
    "#RQ3 For each category, what’s the brand whose prices are higher on average? Find, for each category, the brand with the highest average price. Return all the results in ascending order by price.\n",
    "result_price = result[['category_code','brand','price']]\n",
    "cat = result_price['category_code'].str.split(\".\",n= 1, expand = True)\n",
    "result_price['category'] = cat[0]\n",
    "result_price['SubCategory'] = cat[1]\n",
    "cat_2 = result_price['SubCategory'].str.split(\".\",n= 1, expand = True)\n",
    "result_price.drop(columns =[\"SubCategory\"], inplace = True)\n",
    "result_price['SubCategory'] = cat_2[0]\n",
    "result_price['LowCategory'] = cat_2[1]\n",
    "result_price = pysqldf(\"SELECT category, brand, sum(price) as price, count(*) as conteggio from result_price where category is not null group by category, brand\")\n",
    "result_price['conteggio'] = result_price['conteggio'].astype(float)\n",
    "result_price = pysqldf(\"SELECT category, brand, price/conteggio as avg_price from result_price\")\n",
    "result_price['ordine'] = result_price.sort_values(['avg_price'], ascending=False)\\\n",
    "            .groupby(['category'])\\\n",
    "            .cumcount() + 1\n",
    "result_higher_price = pysqldf(\"SELECT category, brand, avg_price from result_price where ordine =1 order by avg_price\")\n",
    "print(result_higher_price)"
   ]
  },
  {
   "cell_type": "markdown",
   "metadata": {},
   "source": [
    "# RQ3 Write a function that asks the user a category in input and returns a plot indicating the average price of the products sold by the brand.\n",
    "# [EN]\n",
    "## I request the Category in input.\n",
    "## I divide the category_code field into its sub-parts.\n",
    "## I calculate the sum of the price by grouping by brand and filtering on the category entered in the input\n",
    "\n",
    "# [IT]\n",
    "## Viene richiesta la Categoria in input\n",
    "## Divido il campo category_code nelle sue sottoparti.\n",
    "## Calcolo la somma del price raggruppando per brand e filtrando sulla category inserita in input"
   ]
  },
  {
   "cell_type": "code",
   "execution_count": 11,
   "metadata": {},
   "outputs": [
    {
     "name": "stdout",
     "output_type": "stream",
     "text": [
      "Enter a category: sport\n"
     ]
    },
    {
     "data": {
      "image/png": "[encoded data removed]",
      "text/plain": [
       "<Figure size 1296x504 with 1 Axes>"
      ]
     },
     "metadata": {
      "needs_background": "light"
     },
     "output_type": "display_data"
    }
   ],
   "source": [
    "# Write a function that asks the user a category in input and returns a plot indicating the average price of the products sold by the brand\n",
    "result_price = result[['category_code','brand','price']]\n",
    "category_input = input(\"Enter a category: \")\n",
    "result_price['category_input'] = category_input\n",
    "cat = result_price['category_code'].str.split(\".\",n= 1, expand = True)\n",
    "result_price['category'] = cat[0]\n",
    "result_price['SubCategory'] = cat[1]\n",
    "cat_2 = result_price['SubCategory'].str.split(\".\",n= 1, expand = True)\n",
    "result_price.drop(columns =[\"SubCategory\"], inplace = True)\n",
    "result_price['SubCategory'] = cat_2[0]\n",
    "result_price['LowCategory'] = cat_2[1]\n",
    "result_price = pysqldf(\"SELECT brand, sum(price) price from result_price where category = category_input group by brand\")\n",
    "result_price.plot(x='brand', y='price', kind='bar',figsize=(18, 7), title = 'Average price of the products sold by the brand') \n",
    "plt.show()"
   ]
  },
  {
   "cell_type": "markdown",
   "metadata": {},
   "source": [
    "# RQ4 How much does each brand earn per month?\n",
    "# [EN]\n",
    "## I initially extract the month from the event_type\n",
    "## I calculate the total price by brand and month\n",
    "\n",
    "# [IT]\n",
    "## Estraggo inizialmente il mese dall'event_type\n",
    "## Calcolo il price totale per brand e mese"
   ]
  },
  {
   "cell_type": "code",
   "execution_count": 13,
   "metadata": {},
   "outputs": [
    {
     "name": "stderr",
     "output_type": "stream",
     "text": [
      "C:\\Users\\fevangel\\Anaconda3\\lib\\site-packages\\ipykernel_launcher.py:3: SettingWithCopyWarning: \n",
      "A value is trying to be set on a copy of a slice from a DataFrame.\n",
      "Try using .loc[row_indexer,col_indexer] = value instead\n",
      "\n",
      "See the caveats in the documentation: https://pandas.pydata.org/pandas-docs/stable/user_guide/indexing.html#returning-a-view-versus-a-copy\n",
      "  This is separate from the ipykernel package so we can avoid doing imports until\n"
     ]
    },
    {
     "name": "stdout",
     "output_type": "stream",
     "text": [
      "      brand  event_time      price\n",
      "0      acer          10  231139.88\n",
      "1      acer          11  575513.82\n",
      "2      acme          10       2.29\n",
      "3      acme          11     158.26\n",
      "4       acv          11     268.21\n",
      "...     ...         ...        ...\n",
      "1237   zoom          10     167.31\n",
      "1238  zotac          11      76.16\n",
      "1239    zte          10     386.00\n",
      "1240    zte          11    1852.70\n",
      "1241   zubr          11     926.66\n",
      "\n",
      "[1242 rows x 3 columns]\n"
     ]
    }
   ],
   "source": [
    "# RQ4  How much does each brand earn per month? Write a function that given the name of a brand in input returns, for each month, its profit. Is the average price of products of different brands significantly different?\n",
    "result_brand = result[['brand','event_time','price','event_type']]\n",
    "result_brand['event_time'] =  pd.to_datetime(result_brand.event_time).dt.month\n",
    "result_brand_profit = pysqldf(\"SELECT brand, event_time, sum(price) as price from result_brand where event_type = 'purchase' group by brand, event_time\")\n",
    "print(result_brand_profit)"
   ]
  },
  {
   "cell_type": "markdown",
   "metadata": {},
   "source": [
    "# RQ4 Write a function that given the name of a brand in input returns, for each month, its profit. Is the average price of products of different brands significantly different?\n",
    "# [EN]\n",
    "## I request the brand in input.\n",
    "## I extract the month from the event_type.\n",
    "## I calculate the total price per month and the brand entered in input.\n",
    "# [IT]\n",
    "## Viene richiesto il brand in input\n",
    "## Estraggo il mese dall'event_type\n",
    "## Calcolo il price totale per mese ed il brand inserito in input"
   ]
  },
  {
   "cell_type": "code",
   "execution_count": 14,
   "metadata": {},
   "outputs": [
    {
     "name": "stdout",
     "output_type": "stream",
     "text": [
      "Enter a brand: xiaomi\n"
     ]
    },
    {
     "name": "stderr",
     "output_type": "stream",
     "text": [
      "C:\\Users\\fevangel\\Anaconda3\\lib\\site-packages\\ipykernel_launcher.py:4: SettingWithCopyWarning: \n",
      "A value is trying to be set on a copy of a slice from a DataFrame.\n",
      "Try using .loc[row_indexer,col_indexer] = value instead\n",
      "\n",
      "See the caveats in the documentation: https://pandas.pydata.org/pandas-docs/stable/user_guide/indexing.html#returning-a-view-versus-a-copy\n",
      "  after removing the cwd from sys.path.\n",
      "C:\\Users\\fevangel\\Anaconda3\\lib\\site-packages\\ipykernel_launcher.py:5: SettingWithCopyWarning: \n",
      "A value is trying to be set on a copy of a slice from a DataFrame.\n",
      "Try using .loc[row_indexer,col_indexer] = value instead\n",
      "\n",
      "See the caveats in the documentation: https://pandas.pydata.org/pandas-docs/stable/user_guide/indexing.html#returning-a-view-versus-a-copy\n",
      "  \"\"\"\n"
     ]
    },
    {
     "name": "stdout",
     "output_type": "stream",
     "text": [
      "    brand  event_time      price\n",
      "0  xiaomi           1  2141899.6\n"
     ]
    }
   ],
   "source": [
    "# Write a function that given the name of a brand in input returns, for each month, its profit. Is the average price of products of different brands significantly different?\n",
    "result_brand = result[['brand','event_time','price','event_type']]\n",
    "brand_input = input(\"Enter a brand: \")\n",
    "result_brand['brand_input'] = brand_input\n",
    "result_brand['event_time'] =  pd.to_datetime(result.event_time).dt.month\n",
    "result_brand_profit = pysqldf(\"SELECT brand, event_time, sum(price) as price from result_brand where event_type = 'purchase' and brand = brand_input group by brand, event_time\")\n",
    "print(result_brand_profit)"
   ]
  },
  {
   "cell_type": "markdown",
   "metadata": {},
   "source": [
    "# RQ5 In what part of the day is your store most visited?\n",
    "# [EN]\n",
    "## I extract the month from the event_type\n",
    "## I count the 'views' by grouping by the hours extracted previously\n",
    "# [IT]\n",
    "## Estraggo il mese dall'event_type\n",
    "## Conto le 'view' raggruppando per le ore estratte in precedenza"
   ]
  },
  {
   "cell_type": "code",
   "execution_count": 14,
   "metadata": {},
   "outputs": [
    {
     "name": "stderr",
     "output_type": "stream",
     "text": [
      "C:\\Users\\fevangel\\Anaconda3\\lib\\site-packages\\ipykernel_launcher.py:3: SettingWithCopyWarning: \n",
      "A value is trying to be set on a copy of a slice from a DataFrame.\n",
      "Try using .loc[row_indexer,col_indexer] = value instead\n",
      "\n",
      "See the caveats in the documentation: https://pandas.pydata.org/pandas-docs/stable/user_guide/indexing.html#returning-a-view-versus-a-copy\n",
      "  This is separate from the ipykernel package so we can avoid doing imports until\n"
     ]
    },
    {
     "name": "stdout",
     "output_type": "stream",
     "text": [
      "    event_time_hour  visits\n",
      "0                16  514302\n",
      "1                17  507242\n",
      "2                15  502943\n",
      "3                14  475130\n",
      "4                 6  424813\n",
      "5                 7  424535\n",
      "6                 9  422143\n",
      "7                 8  421668\n",
      "8                10  421014\n",
      "9                13  420361\n",
      "10                5  408380\n",
      "11               11  407611\n",
      "12                4  393763\n",
      "13               18  388339\n",
      "14               12  381439\n",
      "15                3  314913\n",
      "16               19  249050\n",
      "17                2  210258\n",
      "18               20  130729\n",
      "19                1   94796\n",
      "20               21   81751\n",
      "21                0   51681\n",
      "22               22   51108\n",
      "23               23   37053\n"
     ]
    }
   ],
   "source": [
    "# RQ5 In what part of the day is your store most visited?\n",
    "result_hour = result[['event_time','event_type']]\n",
    "result_hour['event_time_hour'] =  pd.to_datetime(result_hour.event_time).dt.hour\n",
    "result_hour = pysqldf(\"SELECT event_time_hour, count(*) visits from result_hour where event_type = 'view' group by event_time_hour order by 2 desc\")\n",
    "print(result_hour)"
   ]
  },
  {
   "cell_type": "markdown",
   "metadata": {},
   "source": [
    "# RQ5 Create a plot that for each day of the week show the hourly average of visitors your store has\n",
    "# [EN]\n",
    "## I extract the dayofweek (0 = monday, .., 6 = sunday) from the event_time.\n",
    "## Group by the dayofweek thus extracted and calculate the count (*) / 24 to have the average of the hourly views.\n",
    "# [IT]\n",
    "## Dall'event_time estraggo il dayofweek (0 = monday,..,6 = sunday).\n",
    "## Raggruppo per il dayofweek così estratto e calcolo il count(*)/24 per avere la media delle visualizzazioni orarie."
   ]
  },
  {
   "cell_type": "code",
   "execution_count": 16,
   "metadata": {},
   "outputs": [
    {
     "name": "stderr",
     "output_type": "stream",
     "text": [
      "C:\\Users\\fevangel\\Anaconda3\\lib\\site-packages\\ipykernel_launcher.py:3: SettingWithCopyWarning: \n",
      "A value is trying to be set on a copy of a slice from a DataFrame.\n",
      "Try using .loc[row_indexer,col_indexer] = value instead\n",
      "\n",
      "See the caveats in the documentation: https://pandas.pydata.org/pandas-docs/stable/user_guide/indexing.html#returning-a-view-versus-a-copy\n",
      "  This is separate from the ipykernel package so we can avoid doing imports until\n"
     ]
    },
    {
     "data": {
      "image/png": "[encoded data removed]",
      "text/plain": [
       "<Figure size 432x288 with 1 Axes>"
      ]
     },
     "metadata": {
      "needs_background": "light"
     },
     "output_type": "display_data"
    }
   ],
   "source": [
    "# Create a plot that for each day of the week show the hourly average of visitors your store has\n",
    "result_day_of_week = result[['event_time','event_type']]\n",
    "result_day_of_week['event_time'] =  pd.to_datetime(result_day_of_week.event_time).dt.dayofweek\n",
    "#result_day_of_week['event_time_hour'] =  pd.to_datetime(result_day_of_week.event_time).dt.hour\n",
    "result_day_of_week = pysqldf(\"SELECT event_time as day_of_week, count(*) as visits from result_day_of_week where event_type = 'view' group by event_time\")\n",
    "result_day_of_week['visits'] = result_day_of_week['visits'].astype(float)\n",
    "result_day_of_week['visits'] = result_day_of_week['visits']/24\n",
    "result_day_of_week.plot(x='day_of_week', y='visits', kind='bar',title = 'Hourly average of visitors per day') \n",
    "plt.show()"
   ]
  },
  {
   "cell_type": "markdown",
   "metadata": {},
   "source": [
    "# RQ6 Find the overall conversion rate of your store\n",
    "# [EN]\n",
    "## I divide the category_code field into its sub-parts.\n",
    "## In result_overall_1 I count purchase events with respect to products\n",
    "## In result_overall_2 I count display events against products\n",
    "## In result_overall_3 I calculate the conversion rate for each product\n",
    "## Finally, I calculate the overall conversion rate\n",
    "# [IT]\n",
    "## Divido il campo category_code nelle sue sottoparti.\n",
    "## In result_overall_1 conto gli eventi di acquisto rispetto ai prodotti\n",
    "## In result_overall_2 conto gli eventi di visualizzazione rispetto ai prodotti\n",
    "## In result_overall_3 calcolo il conversion rate per ciascun prodotto\n",
    "## Calcolo infine il  conversion rate complessivo"
   ]
  },
  {
   "cell_type": "code",
   "execution_count": 17,
   "metadata": {},
   "outputs": [
    {
     "name": "stdout",
     "output_type": "stream",
     "text": [
      "The conversation rate of the store is 0.00898900376219856\n"
     ]
    }
   ],
   "source": [
    "# Find the overall conversion rate of your store\n",
    "result_overall = result\n",
    "cat = result_overall['category_code'].str.split(\".\",n= 1, expand = True)\n",
    "result_overall['category'] = cat[0]\n",
    "result_overall['SubCategory'] = cat[1]\n",
    "cat_2 = result_overall['SubCategory'].str.split(\".\",n= 1, expand = True)\n",
    "result_overall.drop(columns =[\"SubCategory\"], inplace = True)\n",
    "result_overall['SubCategory'] = cat_2[0]\n",
    "result_overall['LowCategory'] = cat_2[1]\n",
    "#escludo i category a null\n",
    "result_overall_1 = pysqldf(\"SELECT CASE WHEN LowCategory is not null then LowCategory else SubCategory end as product,  count(*) conteggio_purchase from result_overall where event_type = 'purchase'  group by CASE WHEN LowCategory is not null then LowCategory else SubCategory end\")\n",
    "result_overall_2 = pysqldf(\"SELECT CASE WHEN LowCategory is not null then LowCategory else SubCategory end as product,  count(*) conteggio_view from result_overall where event_type = 'view'  group by CASE WHEN LowCategory is not null then LowCategory else SubCategory end\")\n",
    "result_overall_1['conteggio_purchase'] = result_overall_1['conteggio_purchase'].astype(float)\n",
    "result_overall_2['conteggio_view'] = result_overall_2['conteggio_view'].astype(float)\n",
    "result_overall_3 = pysqldf(\"SELECT r1.product, sum(r1.conteggio_purchase)/sum(r2.conteggio_view) as conversation_rate_per_product from result_overall_1 as r1 join result_overall_2 as r2 on (r1.product = r2.product) group by r1.product\")\n",
    "overall = sum(result_overall_3['conversation_rate_per_product'])/len(result_overall_3)\n",
    "print(\"The conversation rate of the store is \"+str(overall))"
   ]
  },
  {
   "cell_type": "markdown",
   "metadata": {},
   "source": [
    "# RQ6 Plot the number of purchases of each category and show the conversion rate of each category in decreasing order"
   ]
  },
  {
   "cell_type": "code",
   "execution_count": null,
   "metadata": {},
   "outputs": [],
   "source": []
  }
 ],
 "metadata": {
  "kernelspec": {
   "display_name": "Python 3",
   "language": "python",
   "name": "python3"
  },
  "language_info": {
   "codemirror_mode": {
    "name": "ipython",
    "version": 3
   },
   "file_extension": ".py",
   "mimetype": "text/x-python",
   "name": "python",
   "nbconvert_exporter": "python",
   "pygments_lexer": "ipython3",
   "version": "3.7.6"
  }
 },
 "nbformat": 4,
 "nbformat_minor": 4
}
